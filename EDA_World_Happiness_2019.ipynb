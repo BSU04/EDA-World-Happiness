{
 "cells": [
  {
   "cell_type": "code",
   "execution_count": 1,
   "id": "e4477335",
   "metadata": {},
   "outputs": [],
   "source": [
    "import pandas as pd\n",
    "import numpy as np\n",
    "import matplotlib.pyplot as plt\n",
    "import seaborn as sns\n",
    "%matplotlib inline"
   ]
  },
  {
   "cell_type": "code",
   "execution_count": 2,
   "id": "0a188400",
   "metadata": {},
   "outputs": [],
   "source": [
    "happiness = pd.read_csv(\"Happiness_2019.csv\")"
   ]
  },
  {
   "cell_type": "markdown",
   "id": "27d29503",
   "metadata": {},
   "source": [
    "## Data Exploration"
   ]
  },
  {
   "cell_type": "code",
   "execution_count": 3,
   "id": "23d35b27",
   "metadata": {
    "scrolled": true
   },
   "outputs": [
    {
     "data": {
      "text/plain": [
       "(156, 9)"
      ]
     },
     "execution_count": 3,
     "metadata": {},
     "output_type": "execute_result"
    }
   ],
   "source": [
    "happiness.shape"
   ]
  },
  {
   "cell_type": "code",
   "execution_count": 4,
   "id": "f18e61a8",
   "metadata": {},
   "outputs": [
    {
     "name": "stdout",
     "output_type": "stream",
     "text": [
      "<class 'pandas.core.frame.DataFrame'>\n",
      "RangeIndex: 156 entries, 0 to 155\n",
      "Data columns (total 9 columns):\n",
      " #   Column                        Non-Null Count  Dtype  \n",
      "---  ------                        --------------  -----  \n",
      " 0   Overall rank                  156 non-null    int64  \n",
      " 1   Country or region             156 non-null    object \n",
      " 2   Score                         156 non-null    float64\n",
      " 3   GDP per capita                156 non-null    float64\n",
      " 4   Social support                156 non-null    float64\n",
      " 5   Healthy life expectancy       156 non-null    float64\n",
      " 6   Freedom to make life choices  156 non-null    float64\n",
      " 7   Generosity                    156 non-null    float64\n",
      " 8   Perceptions of corruption     156 non-null    float64\n",
      "dtypes: float64(7), int64(1), object(1)\n",
      "memory usage: 11.1+ KB\n"
     ]
    }
   ],
   "source": [
    "happiness.info()"
   ]
  },
  {
   "cell_type": "code",
   "execution_count": 5,
   "id": "ef1c60ac",
   "metadata": {},
   "outputs": [
    {
     "data": {
      "text/html": [
       "<div>\n",
       "<style scoped>\n",
       "    .dataframe tbody tr th:only-of-type {\n",
       "        vertical-align: middle;\n",
       "    }\n",
       "\n",
       "    .dataframe tbody tr th {\n",
       "        vertical-align: top;\n",
       "    }\n",
       "\n",
       "    .dataframe thead th {\n",
       "        text-align: right;\n",
       "    }\n",
       "</style>\n",
       "<table border=\"1\" class=\"dataframe\">\n",
       "  <thead>\n",
       "    <tr style=\"text-align: right;\">\n",
       "      <th></th>\n",
       "      <th>Overall rank</th>\n",
       "      <th>Country or region</th>\n",
       "      <th>Score</th>\n",
       "      <th>GDP per capita</th>\n",
       "      <th>Social support</th>\n",
       "      <th>Healthy life expectancy</th>\n",
       "      <th>Freedom to make life choices</th>\n",
       "      <th>Generosity</th>\n",
       "      <th>Perceptions of corruption</th>\n",
       "    </tr>\n",
       "  </thead>\n",
       "  <tbody>\n",
       "    <tr>\n",
       "      <th>0</th>\n",
       "      <td>1</td>\n",
       "      <td>Finland</td>\n",
       "      <td>7.769</td>\n",
       "      <td>1.340</td>\n",
       "      <td>1.587</td>\n",
       "      <td>0.986</td>\n",
       "      <td>0.596</td>\n",
       "      <td>0.153</td>\n",
       "      <td>0.393</td>\n",
       "    </tr>\n",
       "    <tr>\n",
       "      <th>1</th>\n",
       "      <td>2</td>\n",
       "      <td>Denmark</td>\n",
       "      <td>7.600</td>\n",
       "      <td>1.383</td>\n",
       "      <td>1.573</td>\n",
       "      <td>0.996</td>\n",
       "      <td>0.592</td>\n",
       "      <td>0.252</td>\n",
       "      <td>0.410</td>\n",
       "    </tr>\n",
       "    <tr>\n",
       "      <th>2</th>\n",
       "      <td>3</td>\n",
       "      <td>Norway</td>\n",
       "      <td>7.554</td>\n",
       "      <td>1.488</td>\n",
       "      <td>1.582</td>\n",
       "      <td>1.028</td>\n",
       "      <td>0.603</td>\n",
       "      <td>0.271</td>\n",
       "      <td>0.341</td>\n",
       "    </tr>\n",
       "    <tr>\n",
       "      <th>3</th>\n",
       "      <td>4</td>\n",
       "      <td>Iceland</td>\n",
       "      <td>7.494</td>\n",
       "      <td>1.380</td>\n",
       "      <td>1.624</td>\n",
       "      <td>1.026</td>\n",
       "      <td>0.591</td>\n",
       "      <td>0.354</td>\n",
       "      <td>0.118</td>\n",
       "    </tr>\n",
       "    <tr>\n",
       "      <th>4</th>\n",
       "      <td>5</td>\n",
       "      <td>Netherlands</td>\n",
       "      <td>7.488</td>\n",
       "      <td>1.396</td>\n",
       "      <td>1.522</td>\n",
       "      <td>0.999</td>\n",
       "      <td>0.557</td>\n",
       "      <td>0.322</td>\n",
       "      <td>0.298</td>\n",
       "    </tr>\n",
       "  </tbody>\n",
       "</table>\n",
       "</div>"
      ],
      "text/plain": [
       "   Overall rank Country or region  Score  GDP per capita  Social support  \\\n",
       "0             1           Finland  7.769           1.340           1.587   \n",
       "1             2           Denmark  7.600           1.383           1.573   \n",
       "2             3            Norway  7.554           1.488           1.582   \n",
       "3             4           Iceland  7.494           1.380           1.624   \n",
       "4             5       Netherlands  7.488           1.396           1.522   \n",
       "\n",
       "   Healthy life expectancy  Freedom to make life choices  Generosity  \\\n",
       "0                    0.986                         0.596       0.153   \n",
       "1                    0.996                         0.592       0.252   \n",
       "2                    1.028                         0.603       0.271   \n",
       "3                    1.026                         0.591       0.354   \n",
       "4                    0.999                         0.557       0.322   \n",
       "\n",
       "   Perceptions of corruption  \n",
       "0                      0.393  \n",
       "1                      0.410  \n",
       "2                      0.341  \n",
       "3                      0.118  \n",
       "4                      0.298  "
      ]
     },
     "execution_count": 5,
     "metadata": {},
     "output_type": "execute_result"
    }
   ],
   "source": [
    "happiness.head()"
   ]
  },
  {
   "cell_type": "code",
   "execution_count": 6,
   "id": "9ce03bf4",
   "metadata": {},
   "outputs": [
    {
     "data": {
      "text/html": [
       "<div>\n",
       "<style scoped>\n",
       "    .dataframe tbody tr th:only-of-type {\n",
       "        vertical-align: middle;\n",
       "    }\n",
       "\n",
       "    .dataframe tbody tr th {\n",
       "        vertical-align: top;\n",
       "    }\n",
       "\n",
       "    .dataframe thead th {\n",
       "        text-align: right;\n",
       "    }\n",
       "</style>\n",
       "<table border=\"1\" class=\"dataframe\">\n",
       "  <thead>\n",
       "    <tr style=\"text-align: right;\">\n",
       "      <th></th>\n",
       "      <th>Overall rank</th>\n",
       "      <th>Country or region</th>\n",
       "      <th>Score</th>\n",
       "      <th>GDP per capita</th>\n",
       "      <th>Social support</th>\n",
       "      <th>Healthy life expectancy</th>\n",
       "      <th>Freedom to make life choices</th>\n",
       "      <th>Generosity</th>\n",
       "      <th>Perceptions of corruption</th>\n",
       "    </tr>\n",
       "  </thead>\n",
       "  <tbody>\n",
       "    <tr>\n",
       "      <th>151</th>\n",
       "      <td>152</td>\n",
       "      <td>Rwanda</td>\n",
       "      <td>3.334</td>\n",
       "      <td>0.359</td>\n",
       "      <td>0.711</td>\n",
       "      <td>0.614</td>\n",
       "      <td>0.555</td>\n",
       "      <td>0.217</td>\n",
       "      <td>0.411</td>\n",
       "    </tr>\n",
       "    <tr>\n",
       "      <th>152</th>\n",
       "      <td>153</td>\n",
       "      <td>Tanzania</td>\n",
       "      <td>3.231</td>\n",
       "      <td>0.476</td>\n",
       "      <td>0.885</td>\n",
       "      <td>0.499</td>\n",
       "      <td>0.417</td>\n",
       "      <td>0.276</td>\n",
       "      <td>0.147</td>\n",
       "    </tr>\n",
       "    <tr>\n",
       "      <th>153</th>\n",
       "      <td>154</td>\n",
       "      <td>Afghanistan</td>\n",
       "      <td>3.203</td>\n",
       "      <td>0.350</td>\n",
       "      <td>0.517</td>\n",
       "      <td>0.361</td>\n",
       "      <td>0.000</td>\n",
       "      <td>0.158</td>\n",
       "      <td>0.025</td>\n",
       "    </tr>\n",
       "    <tr>\n",
       "      <th>154</th>\n",
       "      <td>155</td>\n",
       "      <td>Central African Republic</td>\n",
       "      <td>3.083</td>\n",
       "      <td>0.026</td>\n",
       "      <td>0.000</td>\n",
       "      <td>0.105</td>\n",
       "      <td>0.225</td>\n",
       "      <td>0.235</td>\n",
       "      <td>0.035</td>\n",
       "    </tr>\n",
       "    <tr>\n",
       "      <th>155</th>\n",
       "      <td>156</td>\n",
       "      <td>South Sudan</td>\n",
       "      <td>2.853</td>\n",
       "      <td>0.306</td>\n",
       "      <td>0.575</td>\n",
       "      <td>0.295</td>\n",
       "      <td>0.010</td>\n",
       "      <td>0.202</td>\n",
       "      <td>0.091</td>\n",
       "    </tr>\n",
       "  </tbody>\n",
       "</table>\n",
       "</div>"
      ],
      "text/plain": [
       "     Overall rank         Country or region  Score  GDP per capita  \\\n",
       "151           152                    Rwanda  3.334           0.359   \n",
       "152           153                  Tanzania  3.231           0.476   \n",
       "153           154               Afghanistan  3.203           0.350   \n",
       "154           155  Central African Republic  3.083           0.026   \n",
       "155           156               South Sudan  2.853           0.306   \n",
       "\n",
       "     Social support  Healthy life expectancy  Freedom to make life choices  \\\n",
       "151           0.711                    0.614                         0.555   \n",
       "152           0.885                    0.499                         0.417   \n",
       "153           0.517                    0.361                         0.000   \n",
       "154           0.000                    0.105                         0.225   \n",
       "155           0.575                    0.295                         0.010   \n",
       "\n",
       "     Generosity  Perceptions of corruption  \n",
       "151       0.217                      0.411  \n",
       "152       0.276                      0.147  \n",
       "153       0.158                      0.025  \n",
       "154       0.235                      0.035  \n",
       "155       0.202                      0.091  "
      ]
     },
     "execution_count": 6,
     "metadata": {},
     "output_type": "execute_result"
    }
   ],
   "source": [
    "happiness.tail()"
   ]
  },
  {
   "cell_type": "code",
   "execution_count": 7,
   "id": "691ccebd",
   "metadata": {},
   "outputs": [
    {
     "data": {
      "text/html": [
       "<div>\n",
       "<style scoped>\n",
       "    .dataframe tbody tr th:only-of-type {\n",
       "        vertical-align: middle;\n",
       "    }\n",
       "\n",
       "    .dataframe tbody tr th {\n",
       "        vertical-align: top;\n",
       "    }\n",
       "\n",
       "    .dataframe thead th {\n",
       "        text-align: right;\n",
       "    }\n",
       "</style>\n",
       "<table border=\"1\" class=\"dataframe\">\n",
       "  <thead>\n",
       "    <tr style=\"text-align: right;\">\n",
       "      <th></th>\n",
       "      <th>Overall rank</th>\n",
       "      <th>Score</th>\n",
       "      <th>GDP per capita</th>\n",
       "      <th>Social support</th>\n",
       "      <th>Healthy life expectancy</th>\n",
       "      <th>Freedom to make life choices</th>\n",
       "      <th>Generosity</th>\n",
       "      <th>Perceptions of corruption</th>\n",
       "    </tr>\n",
       "  </thead>\n",
       "  <tbody>\n",
       "    <tr>\n",
       "      <th>count</th>\n",
       "      <td>156.000000</td>\n",
       "      <td>156.000000</td>\n",
       "      <td>156.000000</td>\n",
       "      <td>156.000000</td>\n",
       "      <td>156.000000</td>\n",
       "      <td>156.000000</td>\n",
       "      <td>156.000000</td>\n",
       "      <td>156.000000</td>\n",
       "    </tr>\n",
       "    <tr>\n",
       "      <th>mean</th>\n",
       "      <td>78.500000</td>\n",
       "      <td>5.407096</td>\n",
       "      <td>0.905147</td>\n",
       "      <td>1.208814</td>\n",
       "      <td>0.725244</td>\n",
       "      <td>0.392571</td>\n",
       "      <td>0.184846</td>\n",
       "      <td>0.110603</td>\n",
       "    </tr>\n",
       "    <tr>\n",
       "      <th>std</th>\n",
       "      <td>45.177428</td>\n",
       "      <td>1.113120</td>\n",
       "      <td>0.398389</td>\n",
       "      <td>0.299191</td>\n",
       "      <td>0.242124</td>\n",
       "      <td>0.143289</td>\n",
       "      <td>0.095254</td>\n",
       "      <td>0.094538</td>\n",
       "    </tr>\n",
       "    <tr>\n",
       "      <th>min</th>\n",
       "      <td>1.000000</td>\n",
       "      <td>2.853000</td>\n",
       "      <td>0.000000</td>\n",
       "      <td>0.000000</td>\n",
       "      <td>0.000000</td>\n",
       "      <td>0.000000</td>\n",
       "      <td>0.000000</td>\n",
       "      <td>0.000000</td>\n",
       "    </tr>\n",
       "    <tr>\n",
       "      <th>25%</th>\n",
       "      <td>39.750000</td>\n",
       "      <td>4.544500</td>\n",
       "      <td>0.602750</td>\n",
       "      <td>1.055750</td>\n",
       "      <td>0.547750</td>\n",
       "      <td>0.308000</td>\n",
       "      <td>0.108750</td>\n",
       "      <td>0.047000</td>\n",
       "    </tr>\n",
       "    <tr>\n",
       "      <th>50%</th>\n",
       "      <td>78.500000</td>\n",
       "      <td>5.379500</td>\n",
       "      <td>0.960000</td>\n",
       "      <td>1.271500</td>\n",
       "      <td>0.789000</td>\n",
       "      <td>0.417000</td>\n",
       "      <td>0.177500</td>\n",
       "      <td>0.085500</td>\n",
       "    </tr>\n",
       "    <tr>\n",
       "      <th>75%</th>\n",
       "      <td>117.250000</td>\n",
       "      <td>6.184500</td>\n",
       "      <td>1.232500</td>\n",
       "      <td>1.452500</td>\n",
       "      <td>0.881750</td>\n",
       "      <td>0.507250</td>\n",
       "      <td>0.248250</td>\n",
       "      <td>0.141250</td>\n",
       "    </tr>\n",
       "    <tr>\n",
       "      <th>max</th>\n",
       "      <td>156.000000</td>\n",
       "      <td>7.769000</td>\n",
       "      <td>1.684000</td>\n",
       "      <td>1.624000</td>\n",
       "      <td>1.141000</td>\n",
       "      <td>0.631000</td>\n",
       "      <td>0.566000</td>\n",
       "      <td>0.453000</td>\n",
       "    </tr>\n",
       "  </tbody>\n",
       "</table>\n",
       "</div>"
      ],
      "text/plain": [
       "       Overall rank       Score  GDP per capita  Social support  \\\n",
       "count    156.000000  156.000000      156.000000      156.000000   \n",
       "mean      78.500000    5.407096        0.905147        1.208814   \n",
       "std       45.177428    1.113120        0.398389        0.299191   \n",
       "min        1.000000    2.853000        0.000000        0.000000   \n",
       "25%       39.750000    4.544500        0.602750        1.055750   \n",
       "50%       78.500000    5.379500        0.960000        1.271500   \n",
       "75%      117.250000    6.184500        1.232500        1.452500   \n",
       "max      156.000000    7.769000        1.684000        1.624000   \n",
       "\n",
       "       Healthy life expectancy  Freedom to make life choices  Generosity  \\\n",
       "count               156.000000                    156.000000  156.000000   \n",
       "mean                  0.725244                      0.392571    0.184846   \n",
       "std                   0.242124                      0.143289    0.095254   \n",
       "min                   0.000000                      0.000000    0.000000   \n",
       "25%                   0.547750                      0.308000    0.108750   \n",
       "50%                   0.789000                      0.417000    0.177500   \n",
       "75%                   0.881750                      0.507250    0.248250   \n",
       "max                   1.141000                      0.631000    0.566000   \n",
       "\n",
       "       Perceptions of corruption  \n",
       "count                 156.000000  \n",
       "mean                    0.110603  \n",
       "std                     0.094538  \n",
       "min                     0.000000  \n",
       "25%                     0.047000  \n",
       "50%                     0.085500  \n",
       "75%                     0.141250  \n",
       "max                     0.453000  "
      ]
     },
     "execution_count": 7,
     "metadata": {},
     "output_type": "execute_result"
    }
   ],
   "source": [
    "happiness.describe()"
   ]
  },
  {
   "cell_type": "code",
   "execution_count": 8,
   "id": "07bf1f54",
   "metadata": {},
   "outputs": [
    {
     "ename": "KeyError",
     "evalue": "'Country_Region'",
     "output_type": "error",
     "traceback": [
      "\u001b[1;31m---------------------------------------------------------------------------\u001b[0m",
      "\u001b[1;31mKeyError\u001b[0m                                  Traceback (most recent call last)",
      "\u001b[1;32m~\\anaconda3\\lib\\site-packages\\pandas\\core\\indexes\\base.py\u001b[0m in \u001b[0;36mget_loc\u001b[1;34m(self, key, method, tolerance)\u001b[0m\n\u001b[0;32m   3628\u001b[0m             \u001b[1;32mtry\u001b[0m\u001b[1;33m:\u001b[0m\u001b[1;33m\u001b[0m\u001b[1;33m\u001b[0m\u001b[0m\n\u001b[1;32m-> 3629\u001b[1;33m                 \u001b[1;32mreturn\u001b[0m \u001b[0mself\u001b[0m\u001b[1;33m.\u001b[0m\u001b[0m_engine\u001b[0m\u001b[1;33m.\u001b[0m\u001b[0mget_loc\u001b[0m\u001b[1;33m(\u001b[0m\u001b[0mcasted_key\u001b[0m\u001b[1;33m)\u001b[0m\u001b[1;33m\u001b[0m\u001b[1;33m\u001b[0m\u001b[0m\n\u001b[0m\u001b[0;32m   3630\u001b[0m             \u001b[1;32mexcept\u001b[0m \u001b[0mKeyError\u001b[0m \u001b[1;32mas\u001b[0m \u001b[0merr\u001b[0m\u001b[1;33m:\u001b[0m\u001b[1;33m\u001b[0m\u001b[1;33m\u001b[0m\u001b[0m\n",
      "\u001b[1;32m~\\anaconda3\\lib\\site-packages\\pandas\\_libs\\index.pyx\u001b[0m in \u001b[0;36mpandas._libs.index.IndexEngine.get_loc\u001b[1;34m()\u001b[0m\n",
      "\u001b[1;32m~\\anaconda3\\lib\\site-packages\\pandas\\_libs\\index.pyx\u001b[0m in \u001b[0;36mpandas._libs.index.IndexEngine.get_loc\u001b[1;34m()\u001b[0m\n",
      "\u001b[1;32mpandas\\_libs\\hashtable_class_helper.pxi\u001b[0m in \u001b[0;36mpandas._libs.hashtable.PyObjectHashTable.get_item\u001b[1;34m()\u001b[0m\n",
      "\u001b[1;32mpandas\\_libs\\hashtable_class_helper.pxi\u001b[0m in \u001b[0;36mpandas._libs.hashtable.PyObjectHashTable.get_item\u001b[1;34m()\u001b[0m\n",
      "\u001b[1;31mKeyError\u001b[0m: 'Country_Region'",
      "\nThe above exception was the direct cause of the following exception:\n",
      "\u001b[1;31mKeyError\u001b[0m                                  Traceback (most recent call last)",
      "\u001b[1;32m~\\AppData\\Local\\Temp\\ipykernel_1704\\2490274810.py\u001b[0m in \u001b[0;36m<module>\u001b[1;34m\u001b[0m\n\u001b[0;32m      1\u001b[0m \u001b[1;31m# Converting datatype of Country_Region from object to string\u001b[0m\u001b[1;33m\u001b[0m\u001b[1;33m\u001b[0m\u001b[0m\n\u001b[1;32m----> 2\u001b[1;33m \u001b[0mhappiness\u001b[0m\u001b[1;33m[\u001b[0m\u001b[1;34m\"Country_Region\"\u001b[0m\u001b[1;33m]\u001b[0m \u001b[1;33m=\u001b[0m \u001b[0mhappiness\u001b[0m\u001b[1;33m[\u001b[0m\u001b[1;34m\"Country_Region\"\u001b[0m\u001b[1;33m]\u001b[0m\u001b[1;33m.\u001b[0m\u001b[0mastype\u001b[0m\u001b[1;33m(\u001b[0m\u001b[1;34m\"string\"\u001b[0m\u001b[1;33m)\u001b[0m\u001b[1;33m\u001b[0m\u001b[1;33m\u001b[0m\u001b[0m\n\u001b[0m\u001b[0;32m      3\u001b[0m \u001b[0mhappiness\u001b[0m\u001b[1;33m.\u001b[0m\u001b[0minfo\u001b[0m\u001b[1;33m(\u001b[0m\u001b[1;33m)\u001b[0m\u001b[1;33m\u001b[0m\u001b[1;33m\u001b[0m\u001b[0m\n",
      "\u001b[1;32m~\\anaconda3\\lib\\site-packages\\pandas\\core\\frame.py\u001b[0m in \u001b[0;36m__getitem__\u001b[1;34m(self, key)\u001b[0m\n\u001b[0;32m   3503\u001b[0m             \u001b[1;32mif\u001b[0m \u001b[0mself\u001b[0m\u001b[1;33m.\u001b[0m\u001b[0mcolumns\u001b[0m\u001b[1;33m.\u001b[0m\u001b[0mnlevels\u001b[0m \u001b[1;33m>\u001b[0m \u001b[1;36m1\u001b[0m\u001b[1;33m:\u001b[0m\u001b[1;33m\u001b[0m\u001b[1;33m\u001b[0m\u001b[0m\n\u001b[0;32m   3504\u001b[0m                 \u001b[1;32mreturn\u001b[0m \u001b[0mself\u001b[0m\u001b[1;33m.\u001b[0m\u001b[0m_getitem_multilevel\u001b[0m\u001b[1;33m(\u001b[0m\u001b[0mkey\u001b[0m\u001b[1;33m)\u001b[0m\u001b[1;33m\u001b[0m\u001b[1;33m\u001b[0m\u001b[0m\n\u001b[1;32m-> 3505\u001b[1;33m             \u001b[0mindexer\u001b[0m \u001b[1;33m=\u001b[0m \u001b[0mself\u001b[0m\u001b[1;33m.\u001b[0m\u001b[0mcolumns\u001b[0m\u001b[1;33m.\u001b[0m\u001b[0mget_loc\u001b[0m\u001b[1;33m(\u001b[0m\u001b[0mkey\u001b[0m\u001b[1;33m)\u001b[0m\u001b[1;33m\u001b[0m\u001b[1;33m\u001b[0m\u001b[0m\n\u001b[0m\u001b[0;32m   3506\u001b[0m             \u001b[1;32mif\u001b[0m \u001b[0mis_integer\u001b[0m\u001b[1;33m(\u001b[0m\u001b[0mindexer\u001b[0m\u001b[1;33m)\u001b[0m\u001b[1;33m:\u001b[0m\u001b[1;33m\u001b[0m\u001b[1;33m\u001b[0m\u001b[0m\n\u001b[0;32m   3507\u001b[0m                 \u001b[0mindexer\u001b[0m \u001b[1;33m=\u001b[0m \u001b[1;33m[\u001b[0m\u001b[0mindexer\u001b[0m\u001b[1;33m]\u001b[0m\u001b[1;33m\u001b[0m\u001b[1;33m\u001b[0m\u001b[0m\n",
      "\u001b[1;32m~\\anaconda3\\lib\\site-packages\\pandas\\core\\indexes\\base.py\u001b[0m in \u001b[0;36mget_loc\u001b[1;34m(self, key, method, tolerance)\u001b[0m\n\u001b[0;32m   3629\u001b[0m                 \u001b[1;32mreturn\u001b[0m \u001b[0mself\u001b[0m\u001b[1;33m.\u001b[0m\u001b[0m_engine\u001b[0m\u001b[1;33m.\u001b[0m\u001b[0mget_loc\u001b[0m\u001b[1;33m(\u001b[0m\u001b[0mcasted_key\u001b[0m\u001b[1;33m)\u001b[0m\u001b[1;33m\u001b[0m\u001b[1;33m\u001b[0m\u001b[0m\n\u001b[0;32m   3630\u001b[0m             \u001b[1;32mexcept\u001b[0m \u001b[0mKeyError\u001b[0m \u001b[1;32mas\u001b[0m \u001b[0merr\u001b[0m\u001b[1;33m:\u001b[0m\u001b[1;33m\u001b[0m\u001b[1;33m\u001b[0m\u001b[0m\n\u001b[1;32m-> 3631\u001b[1;33m                 \u001b[1;32mraise\u001b[0m \u001b[0mKeyError\u001b[0m\u001b[1;33m(\u001b[0m\u001b[0mkey\u001b[0m\u001b[1;33m)\u001b[0m \u001b[1;32mfrom\u001b[0m \u001b[0merr\u001b[0m\u001b[1;33m\u001b[0m\u001b[1;33m\u001b[0m\u001b[0m\n\u001b[0m\u001b[0;32m   3632\u001b[0m             \u001b[1;32mexcept\u001b[0m \u001b[0mTypeError\u001b[0m\u001b[1;33m:\u001b[0m\u001b[1;33m\u001b[0m\u001b[1;33m\u001b[0m\u001b[0m\n\u001b[0;32m   3633\u001b[0m                 \u001b[1;31m# If we have a listlike key, _check_indexing_error will raise\u001b[0m\u001b[1;33m\u001b[0m\u001b[1;33m\u001b[0m\u001b[0m\n",
      "\u001b[1;31mKeyError\u001b[0m: 'Country_Region'"
     ]
    }
   ],
   "source": [
    "# Converting datatype of Country_Region from object to string\n",
    "happiness[\"Country_Region\"] = happiness[\"Country_Region\"].astype(\"string\")\n",
    "happiness.info()"
   ]
  },
  {
   "cell_type": "markdown",
   "id": "c171c4be",
   "metadata": {},
   "source": [
    "## Data Cleaning "
   ]
  },
  {
   "cell_type": "code",
   "execution_count": 18,
   "id": "e0c5b208",
   "metadata": {},
   "outputs": [],
   "source": [
    "# column renaming\n",
    "happiness = happiness.rename(columns={\"Overall rank\":\"Rank\",\"Country or region\":\"Country_Region\",\"GDP per capita\":\"GDP_Capita\",\"Social support\":\"Social Support\",\n",
    "                                    \"Healthy life expectancy\":\"Life Expectancy\",\"Freedom to make life choices\":\"Freedom\",\n",
    "                                    \"Perceptions of corruption\":\"Corruption_Perceptions_Index\"})"
   ]
  },
  {
   "cell_type": "code",
   "execution_count": null,
   "id": "c7e4af51",
   "metadata": {},
   "outputs": [],
   "source": [
    "happiness.head(1)"
   ]
  },
  {
   "cell_type": "markdown",
   "id": "45d8bf9c",
   "metadata": {},
   "source": [
    "*Column Indications*\n",
    "* **Rank** - The Happiness rank out of all the countries\n",
    "* **Country_Region** - Country names\n",
    "* **Score** - Happiness score for each country\n",
    "* **GDP** - Gross Domestic Product is the total market value of all goods and service produced by a country's economy\n",
    "  during a specific period of time\n",
    "* **per capita** - by head or for each person\n",
    "* **Social Support** - how well assisted are the citizens from that particular country\n",
    "* **Life Expectancy** - Life expectancy of citizens from a country\n",
    "* **Freedom** - Freedom provided to the people on various basis\n",
    "* **Generosity** - How Generous are the people towards each other\n",
    "* **Corruption Perceptions Index** - Measure of corruption in a country"
   ]
  },
  {
   "cell_type": "code",
   "execution_count": null,
   "id": "6cfc786a",
   "metadata": {},
   "outputs": [],
   "source": [
    "happiness.head()"
   ]
  },
  {
   "cell_type": "code",
   "execution_count": null,
   "id": "74bf4516",
   "metadata": {},
   "outputs": [],
   "source": [
    "# Null Check\n",
    "happiness.isnull().sum()"
   ]
  },
  {
   "cell_type": "code",
   "execution_count": null,
   "id": "e965bd28",
   "metadata": {},
   "outputs": [],
   "source": [
    "# Duplication check\n",
    "happiness.duplicated().sum()"
   ]
  },
  {
   "cell_type": "code",
   "execution_count": null,
   "id": "3bd930e5",
   "metadata": {},
   "outputs": [],
   "source": [
    "happiness.info()"
   ]
  },
  {
   "cell_type": "code",
   "execution_count": null,
   "id": "d89aa2d1",
   "metadata": {},
   "outputs": [],
   "source": [
    "happiness.head()"
   ]
  },
  {
   "cell_type": "markdown",
   "id": "021f08c1",
   "metadata": {},
   "source": [
    "\n",
    "## Effect of GDP on Happiness ?"
   ]
  },
  {
   "cell_type": "code",
   "execution_count": null,
   "id": "28a96da3",
   "metadata": {
    "scrolled": false
   },
   "outputs": [],
   "source": [
    "plt.title(\"Effect of GDP on Happiness\")\n",
    "sns.scatterplot(x = happiness.GDP_Capita,y = happiness.Rank,alpha=1);"
   ]
  },
  {
   "cell_type": "markdown",
   "id": "49229e8c",
   "metadata": {},
   "source": [
    "**It is clearly evident that GDP_Capita has a significant effect on the happiness level.**\n",
    "\n",
    "**As a Country's GDP is increased,happiness level of citizens increases thus higher the rank of that country**"
   ]
  },
  {
   "cell_type": "code",
   "execution_count": 9,
   "id": "da7208a3",
   "metadata": {},
   "outputs": [
    {
     "data": {
      "text/html": [
       "<div>\n",
       "<style scoped>\n",
       "    .dataframe tbody tr th:only-of-type {\n",
       "        vertical-align: middle;\n",
       "    }\n",
       "\n",
       "    .dataframe tbody tr th {\n",
       "        vertical-align: top;\n",
       "    }\n",
       "\n",
       "    .dataframe thead th {\n",
       "        text-align: right;\n",
       "    }\n",
       "</style>\n",
       "<table border=\"1\" class=\"dataframe\">\n",
       "  <thead>\n",
       "    <tr style=\"text-align: right;\">\n",
       "      <th></th>\n",
       "      <th>Overall rank</th>\n",
       "      <th>Country or region</th>\n",
       "      <th>Score</th>\n",
       "      <th>GDP per capita</th>\n",
       "      <th>Social support</th>\n",
       "      <th>Healthy life expectancy</th>\n",
       "      <th>Freedom to make life choices</th>\n",
       "      <th>Generosity</th>\n",
       "      <th>Perceptions of corruption</th>\n",
       "    </tr>\n",
       "  </thead>\n",
       "  <tbody>\n",
       "    <tr>\n",
       "      <th>0</th>\n",
       "      <td>1</td>\n",
       "      <td>Finland</td>\n",
       "      <td>7.769</td>\n",
       "      <td>1.340</td>\n",
       "      <td>1.587</td>\n",
       "      <td>0.986</td>\n",
       "      <td>0.596</td>\n",
       "      <td>0.153</td>\n",
       "      <td>0.393</td>\n",
       "    </tr>\n",
       "    <tr>\n",
       "      <th>1</th>\n",
       "      <td>2</td>\n",
       "      <td>Denmark</td>\n",
       "      <td>7.600</td>\n",
       "      <td>1.383</td>\n",
       "      <td>1.573</td>\n",
       "      <td>0.996</td>\n",
       "      <td>0.592</td>\n",
       "      <td>0.252</td>\n",
       "      <td>0.410</td>\n",
       "    </tr>\n",
       "    <tr>\n",
       "      <th>2</th>\n",
       "      <td>3</td>\n",
       "      <td>Norway</td>\n",
       "      <td>7.554</td>\n",
       "      <td>1.488</td>\n",
       "      <td>1.582</td>\n",
       "      <td>1.028</td>\n",
       "      <td>0.603</td>\n",
       "      <td>0.271</td>\n",
       "      <td>0.341</td>\n",
       "    </tr>\n",
       "    <tr>\n",
       "      <th>3</th>\n",
       "      <td>4</td>\n",
       "      <td>Iceland</td>\n",
       "      <td>7.494</td>\n",
       "      <td>1.380</td>\n",
       "      <td>1.624</td>\n",
       "      <td>1.026</td>\n",
       "      <td>0.591</td>\n",
       "      <td>0.354</td>\n",
       "      <td>0.118</td>\n",
       "    </tr>\n",
       "    <tr>\n",
       "      <th>4</th>\n",
       "      <td>5</td>\n",
       "      <td>Netherlands</td>\n",
       "      <td>7.488</td>\n",
       "      <td>1.396</td>\n",
       "      <td>1.522</td>\n",
       "      <td>0.999</td>\n",
       "      <td>0.557</td>\n",
       "      <td>0.322</td>\n",
       "      <td>0.298</td>\n",
       "    </tr>\n",
       "  </tbody>\n",
       "</table>\n",
       "</div>"
      ],
      "text/plain": [
       "   Overall rank Country or region  Score  GDP per capita  Social support  \\\n",
       "0             1           Finland  7.769           1.340           1.587   \n",
       "1             2           Denmark  7.600           1.383           1.573   \n",
       "2             3            Norway  7.554           1.488           1.582   \n",
       "3             4           Iceland  7.494           1.380           1.624   \n",
       "4             5       Netherlands  7.488           1.396           1.522   \n",
       "\n",
       "   Healthy life expectancy  Freedom to make life choices  Generosity  \\\n",
       "0                    0.986                         0.596       0.153   \n",
       "1                    0.996                         0.592       0.252   \n",
       "2                    1.028                         0.603       0.271   \n",
       "3                    1.026                         0.591       0.354   \n",
       "4                    0.999                         0.557       0.322   \n",
       "\n",
       "   Perceptions of corruption  \n",
       "0                      0.393  \n",
       "1                      0.410  \n",
       "2                      0.341  \n",
       "3                      0.118  \n",
       "4                      0.298  "
      ]
     },
     "execution_count": 9,
     "metadata": {},
     "output_type": "execute_result"
    }
   ],
   "source": [
    "happiness.head()"
   ]
  },
  {
   "cell_type": "markdown",
   "id": "05bd5a26",
   "metadata": {},
   "source": [
    "## Countries with the Highest Corruption Perceptions Index ?"
   ]
  },
  {
   "cell_type": "code",
   "execution_count": null,
   "id": "0933f96f",
   "metadata": {},
   "outputs": [],
   "source": [
    "happiness.head()"
   ]
  },
  {
   "cell_type": "code",
   "execution_count": null,
   "id": "f45560b3",
   "metadata": {},
   "outputs": [],
   "source": [
    "corruptions = happiness.nlargest(10,[\"Corruption_Perceptions_Index\"])\n",
    "corruptions"
   ]
  },
  {
   "cell_type": "code",
   "execution_count": null,
   "id": "88b20eac",
   "metadata": {},
   "outputs": [],
   "source": [
    "plt.title(\"Corruption Perceptions Index w.r.t Rank\")\n",
    "sns.scatterplot(x=happiness.Corruption_Perceptions_Index,y=happiness.Rank)"
   ]
  },
  {
   "cell_type": "markdown",
   "id": "25f71a48",
   "metadata": {},
   "source": [
    "**Corruption has no effect on the happiness level of citizens in a country as the top 25 ranked countries has the highest**\n",
    "**levels of corruption**"
   ]
  },
  {
   "cell_type": "code",
   "execution_count": null,
   "id": "70347ada",
   "metadata": {},
   "outputs": [],
   "source": [
    "happiness.shape"
   ]
  },
  {
   "cell_type": "markdown",
   "id": "b9247a49",
   "metadata": {},
   "source": [
    "## Sort the last 10 countries in the decreasing order of Corruption Perceptions Index"
   ]
  },
  {
   "cell_type": "code",
   "execution_count": null,
   "id": "e55af1ef",
   "metadata": {},
   "outputs": [],
   "source": [
    "corruption = happiness.loc[140:156].sort_values(by=[\"Corruption_Perceptions_Index\"],ascending=False)"
   ]
  },
  {
   "cell_type": "code",
   "execution_count": null,
   "id": "c16a815f",
   "metadata": {},
   "outputs": [],
   "source": [
    "corruption"
   ]
  },
  {
   "cell_type": "code",
   "execution_count": null,
   "id": "4f82e2c2",
   "metadata": {},
   "outputs": [],
   "source": [
    "happiness.head()"
   ]
  },
  {
   "cell_type": "markdown",
   "id": "f19a3da3",
   "metadata": {},
   "source": [
    "## Check whether the rank repeats for two countries"
   ]
  },
  {
   "cell_type": "code",
   "execution_count": null,
   "id": "8db20bc9",
   "metadata": {},
   "outputs": [],
   "source": [
    "happiness[\"Rank\"].value_counts()"
   ]
  },
  {
   "cell_type": "markdown",
   "id": "c1df08df",
   "metadata": {},
   "source": [
    "## Which country has the highest rating in terms of freedom?\n",
    "(Display the complete country information)\n"
   ]
  },
  {
   "cell_type": "code",
   "execution_count": null,
   "id": "67713d98",
   "metadata": {},
   "outputs": [],
   "source": [
    "#idxmax()\n",
    "happiness.loc[happiness[\"Freedom\"].idxmax()]"
   ]
  },
  {
   "cell_type": "markdown",
   "id": "8e8c5dbd",
   "metadata": {},
   "source": [
    "## Which country has the highest life expectancy? \n",
    "(Display the complete country information)"
   ]
  },
  {
   "cell_type": "code",
   "execution_count": null,
   "id": "323623e9",
   "metadata": {},
   "outputs": [],
   "source": [
    "happiness.loc[happiness[\"Life Expectancy\"].idxmax()]"
   ]
  },
  {
   "cell_type": "code",
   "execution_count": null,
   "id": "329d9e08",
   "metadata": {},
   "outputs": [],
   "source": [
    "happiness.head()"
   ]
  },
  {
   "cell_type": "markdown",
   "id": "00d2d20a",
   "metadata": {},
   "source": [
    "## Which country has the highest GDP & Freedom Rating?"
   ]
  },
  {
   "cell_type": "code",
   "execution_count": null,
   "id": "43b4af46",
   "metadata": {},
   "outputs": [],
   "source": [
    "happiness.loc[happiness[[\"GDP_Capita\",\"Freedom\"]].idxmax()]"
   ]
  },
  {
   "cell_type": "markdown",
   "id": "3580d6ec",
   "metadata": {},
   "source": [
    "## Which country has the least Social Support ?\n",
    "(Display the complete country Information)"
   ]
  },
  {
   "cell_type": "code",
   "execution_count": 20,
   "id": "1f91f57e",
   "metadata": {},
   "outputs": [
    {
     "data": {
      "text/plain": [
       "Rank                                                 155\n",
       "Country_Region                  Central African Republic\n",
       "Score                                              3.083\n",
       "GDP_Capita                                         0.026\n",
       "Social Support                                       0.0\n",
       "Life Expectancy                                    0.105\n",
       "Freedom                                            0.225\n",
       "Generosity                                         0.235\n",
       "Corruption_Perceptions_Index                       0.035\n",
       "Name: 154, dtype: object"
      ]
     },
     "execution_count": 20,
     "metadata": {},
     "output_type": "execute_result"
    }
   ],
   "source": [
    "# idxmin()\n",
    "happiness.loc[happiness[\"Social Support\"].idxmin()]"
   ]
  },
  {
   "cell_type": "markdown",
   "id": "dffebcc2",
   "metadata": {},
   "source": [
    "## Create a new column named \"Freedom\" by merging values of Social Support and Freedom Column"
   ]
  },
  {
   "cell_type": "code",
   "execution_count": null,
   "id": "34d2cd02",
   "metadata": {},
   "outputs": [],
   "source": [
    "happiness[\"Freedom_Support\"] = happiness[\"Social Support\"] + happiness[\"Freedom\"]"
   ]
  },
  {
   "cell_type": "code",
   "execution_count": null,
   "id": "88a340d2",
   "metadata": {},
   "outputs": [],
   "source": [
    "happiness"
   ]
  },
  {
   "cell_type": "markdown",
   "id": "a665691f",
   "metadata": {},
   "source": [
    "## Which country has the highest Freedom and Support ?"
   ]
  },
  {
   "cell_type": "code",
   "execution_count": null,
   "id": "8f3f4693",
   "metadata": {},
   "outputs": [],
   "source": [
    "happiness.loc[happiness[\"Freedom_Support\"].idxmax()]"
   ]
  },
  {
   "cell_type": "markdown",
   "id": "378a79a1",
   "metadata": {},
   "source": [
    "## Create a copy of the current dataframe"
   ]
  },
  {
   "cell_type": "code",
   "execution_count": null,
   "id": "b8de8af5",
   "metadata": {},
   "outputs": [],
   "source": [
    "new_happiness = happiness.copy()"
   ]
  },
  {
   "cell_type": "markdown",
   "id": "f9b1364c",
   "metadata": {},
   "source": [
    "## Save the copy as a new csv file"
   ]
  },
  {
   "cell_type": "code",
   "execution_count": null,
   "id": "aadd04a3",
   "metadata": {},
   "outputs": [],
   "source": [
    "happiness.to_csv(\"new_happiness.csv\")"
   ]
  },
  {
   "cell_type": "code",
   "execution_count": null,
   "id": "38bada6b",
   "metadata": {},
   "outputs": [],
   "source": [
    "happiness"
   ]
  },
  {
   "cell_type": "code",
   "execution_count": null,
   "id": "d118ccb1",
   "metadata": {},
   "outputs": [],
   "source": [
    "## Delete the column Freedom & Generosity from happiness Dataframe"
   ]
  },
  {
   "cell_type": "code",
   "execution_count": null,
   "id": "5d0bf425",
   "metadata": {},
   "outputs": [],
   "source": [
    "happiness.drop([\"Freedom\",\"Social Support\"],axis=1,inplace=True)"
   ]
  },
  {
   "cell_type": "code",
   "execution_count": 19,
   "id": "f0a275f0",
   "metadata": {},
   "outputs": [
    {
     "data": {
      "text/html": [
       "<div>\n",
       "<style scoped>\n",
       "    .dataframe tbody tr th:only-of-type {\n",
       "        vertical-align: middle;\n",
       "    }\n",
       "\n",
       "    .dataframe tbody tr th {\n",
       "        vertical-align: top;\n",
       "    }\n",
       "\n",
       "    .dataframe thead th {\n",
       "        text-align: right;\n",
       "    }\n",
       "</style>\n",
       "<table border=\"1\" class=\"dataframe\">\n",
       "  <thead>\n",
       "    <tr style=\"text-align: right;\">\n",
       "      <th></th>\n",
       "      <th>Rank</th>\n",
       "      <th>Country_Region</th>\n",
       "      <th>Score</th>\n",
       "      <th>GDP_Capita</th>\n",
       "      <th>Social Support</th>\n",
       "      <th>Life Expectancy</th>\n",
       "      <th>Freedom</th>\n",
       "      <th>Generosity</th>\n",
       "      <th>Corruption_Perceptions_Index</th>\n",
       "    </tr>\n",
       "  </thead>\n",
       "  <tbody>\n",
       "    <tr>\n",
       "      <th>0</th>\n",
       "      <td>1</td>\n",
       "      <td>Finland</td>\n",
       "      <td>7.769</td>\n",
       "      <td>1.340</td>\n",
       "      <td>1.587</td>\n",
       "      <td>0.986</td>\n",
       "      <td>0.596</td>\n",
       "      <td>0.153</td>\n",
       "      <td>0.393</td>\n",
       "    </tr>\n",
       "    <tr>\n",
       "      <th>1</th>\n",
       "      <td>2</td>\n",
       "      <td>Denmark</td>\n",
       "      <td>7.600</td>\n",
       "      <td>1.383</td>\n",
       "      <td>1.573</td>\n",
       "      <td>0.996</td>\n",
       "      <td>0.592</td>\n",
       "      <td>0.252</td>\n",
       "      <td>0.410</td>\n",
       "    </tr>\n",
       "    <tr>\n",
       "      <th>2</th>\n",
       "      <td>3</td>\n",
       "      <td>Norway</td>\n",
       "      <td>7.554</td>\n",
       "      <td>1.488</td>\n",
       "      <td>1.582</td>\n",
       "      <td>1.028</td>\n",
       "      <td>0.603</td>\n",
       "      <td>0.271</td>\n",
       "      <td>0.341</td>\n",
       "    </tr>\n",
       "    <tr>\n",
       "      <th>3</th>\n",
       "      <td>4</td>\n",
       "      <td>Iceland</td>\n",
       "      <td>7.494</td>\n",
       "      <td>1.380</td>\n",
       "      <td>1.624</td>\n",
       "      <td>1.026</td>\n",
       "      <td>0.591</td>\n",
       "      <td>0.354</td>\n",
       "      <td>0.118</td>\n",
       "    </tr>\n",
       "    <tr>\n",
       "      <th>4</th>\n",
       "      <td>5</td>\n",
       "      <td>Netherlands</td>\n",
       "      <td>7.488</td>\n",
       "      <td>1.396</td>\n",
       "      <td>1.522</td>\n",
       "      <td>0.999</td>\n",
       "      <td>0.557</td>\n",
       "      <td>0.322</td>\n",
       "      <td>0.298</td>\n",
       "    </tr>\n",
       "    <tr>\n",
       "      <th>...</th>\n",
       "      <td>...</td>\n",
       "      <td>...</td>\n",
       "      <td>...</td>\n",
       "      <td>...</td>\n",
       "      <td>...</td>\n",
       "      <td>...</td>\n",
       "      <td>...</td>\n",
       "      <td>...</td>\n",
       "      <td>...</td>\n",
       "    </tr>\n",
       "    <tr>\n",
       "      <th>151</th>\n",
       "      <td>152</td>\n",
       "      <td>Rwanda</td>\n",
       "      <td>3.334</td>\n",
       "      <td>0.359</td>\n",
       "      <td>0.711</td>\n",
       "      <td>0.614</td>\n",
       "      <td>0.555</td>\n",
       "      <td>0.217</td>\n",
       "      <td>0.411</td>\n",
       "    </tr>\n",
       "    <tr>\n",
       "      <th>152</th>\n",
       "      <td>153</td>\n",
       "      <td>Tanzania</td>\n",
       "      <td>3.231</td>\n",
       "      <td>0.476</td>\n",
       "      <td>0.885</td>\n",
       "      <td>0.499</td>\n",
       "      <td>0.417</td>\n",
       "      <td>0.276</td>\n",
       "      <td>0.147</td>\n",
       "    </tr>\n",
       "    <tr>\n",
       "      <th>153</th>\n",
       "      <td>154</td>\n",
       "      <td>Afghanistan</td>\n",
       "      <td>3.203</td>\n",
       "      <td>0.350</td>\n",
       "      <td>0.517</td>\n",
       "      <td>0.361</td>\n",
       "      <td>0.000</td>\n",
       "      <td>0.158</td>\n",
       "      <td>0.025</td>\n",
       "    </tr>\n",
       "    <tr>\n",
       "      <th>154</th>\n",
       "      <td>155</td>\n",
       "      <td>Central African Republic</td>\n",
       "      <td>3.083</td>\n",
       "      <td>0.026</td>\n",
       "      <td>0.000</td>\n",
       "      <td>0.105</td>\n",
       "      <td>0.225</td>\n",
       "      <td>0.235</td>\n",
       "      <td>0.035</td>\n",
       "    </tr>\n",
       "    <tr>\n",
       "      <th>155</th>\n",
       "      <td>156</td>\n",
       "      <td>South Sudan</td>\n",
       "      <td>2.853</td>\n",
       "      <td>0.306</td>\n",
       "      <td>0.575</td>\n",
       "      <td>0.295</td>\n",
       "      <td>0.010</td>\n",
       "      <td>0.202</td>\n",
       "      <td>0.091</td>\n",
       "    </tr>\n",
       "  </tbody>\n",
       "</table>\n",
       "<p>156 rows × 9 columns</p>\n",
       "</div>"
      ],
      "text/plain": [
       "     Rank            Country_Region  Score  GDP_Capita  Social Support  \\\n",
       "0       1                   Finland  7.769       1.340           1.587   \n",
       "1       2                   Denmark  7.600       1.383           1.573   \n",
       "2       3                    Norway  7.554       1.488           1.582   \n",
       "3       4                   Iceland  7.494       1.380           1.624   \n",
       "4       5               Netherlands  7.488       1.396           1.522   \n",
       "..    ...                       ...    ...         ...             ...   \n",
       "151   152                    Rwanda  3.334       0.359           0.711   \n",
       "152   153                  Tanzania  3.231       0.476           0.885   \n",
       "153   154               Afghanistan  3.203       0.350           0.517   \n",
       "154   155  Central African Republic  3.083       0.026           0.000   \n",
       "155   156               South Sudan  2.853       0.306           0.575   \n",
       "\n",
       "     Life Expectancy  Freedom  Generosity  Corruption_Perceptions_Index  \n",
       "0              0.986    0.596       0.153                         0.393  \n",
       "1              0.996    0.592       0.252                         0.410  \n",
       "2              1.028    0.603       0.271                         0.341  \n",
       "3              1.026    0.591       0.354                         0.118  \n",
       "4              0.999    0.557       0.322                         0.298  \n",
       "..               ...      ...         ...                           ...  \n",
       "151            0.614    0.555       0.217                         0.411  \n",
       "152            0.499    0.417       0.276                         0.147  \n",
       "153            0.361    0.000       0.158                         0.025  \n",
       "154            0.105    0.225       0.235                         0.035  \n",
       "155            0.295    0.010       0.202                         0.091  \n",
       "\n",
       "[156 rows x 9 columns]"
      ]
     },
     "execution_count": 19,
     "metadata": {},
     "output_type": "execute_result"
    }
   ],
   "source": [
    "happiness"
   ]
  },
  {
   "cell_type": "markdown",
   "id": "62aa8344",
   "metadata": {},
   "source": [
    "## Display the country information which has the highest generosity level"
   ]
  },
  {
   "cell_type": "code",
   "execution_count": 14,
   "id": "ed46df90",
   "metadata": {},
   "outputs": [
    {
     "data": {
      "text/plain": [
       "Overall rank                        131\n",
       "Country or region               Myanmar\n",
       "Score                              4.36\n",
       "GDP per capita                     0.71\n",
       "Social support                    1.181\n",
       "Healthy life expectancy           0.555\n",
       "Freedom to make life choices      0.525\n",
       "Generosity                        0.566\n",
       "Perceptions of corruption         0.172\n",
       "Name: 130, dtype: object"
      ]
     },
     "execution_count": 14,
     "metadata": {},
     "output_type": "execute_result"
    }
   ],
   "source": [
    "happiness.iloc[happiness[\"Generosity\"].idxmax()]"
   ]
  },
  {
   "cell_type": "code",
   "execution_count": null,
   "id": "a6cd6db9",
   "metadata": {},
   "outputs": [],
   "source": []
  }
 ],
 "metadata": {
  "kernelspec": {
   "display_name": "Python 3 (ipykernel)",
   "language": "python",
   "name": "python3"
  },
  "language_info": {
   "codemirror_mode": {
    "name": "ipython",
    "version": 3
   },
   "file_extension": ".py",
   "mimetype": "text/x-python",
   "name": "python",
   "nbconvert_exporter": "python",
   "pygments_lexer": "ipython3",
   "version": "3.9.13"
  }
 },
 "nbformat": 4,
 "nbformat_minor": 5
}
